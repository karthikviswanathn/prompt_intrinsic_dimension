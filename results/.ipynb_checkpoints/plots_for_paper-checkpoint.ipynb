{
 "cells": [
  {
   "cell_type": "code",
   "execution_count": 1,
   "id": "cc71d401-56f7-45be-a2bb-41e0f56b80a1",
   "metadata": {},
   "outputs": [],
   "source": [
    "import numpy as np\n",
    "import matplotlib.pyplot as plt\n",
    "from scipy import stats\n",
    "import matplotlib.colors as mcolors\n",
    "hex6 = ['#648FFF', '#785EF0', '#DC267F', '#FE6100', '#FFB000']\n",
    "colors6=[mcolors.to_rgb(i) for i in hex6]"
   ]
  },
  {
   "cell_type": "code",
   "execution_count": null,
   "id": "b0f6c9a3-c929-41ce-abc4-404ff1fe2214",
   "metadata": {},
   "outputs": [],
   "source": [
    "entropy_model_list = [\"meta-llama/Meta-Llama-3-8B\",\n",
    "        \"EleutherAI/pythia-6.9b\",\n",
    "        \"EleutherAI/pythia-6.9b-deduped\",\n",
    "        \"EleutherAI/pythia-160m-deduped\",\n",
    "        \"EleutherAI/pythia-410m-deduped\",\n",
    "        \"EleutherAI/pythia-1.4b-deduped\",\n",
    "        \"EleutherAI/pythia-2.8b-deduped\",\n",
    "        \"facebook/opt-6.7b\",\n",
    "        \"gpt2\",\n",
    "        \"gpt2-large\",\n",
    "        \"gpt2-xl\"\n",
    "        ]\n",
    "id_model_list = [\"meta-llama/Meta-Llama-3-8B\",\n",
    "            \"mistralai/Mistral-7B-v0.1\",\n",
    "            \"EleutherAI/pythia-6.9b-deduped\",\n",
    "            \"EleutherAI/pythia-160m-deduped\",\n",
    "            \"EleutherAI/pythia-410m-deduped\",\n",
    "            \"EleutherAI/pythia-1.4b-deduped\",\n",
    "            \"EleutherAI/pythia-2.8b-deduped\",\n",
    "            \"facebook/opt-6.7b\",\n",
    "            \"gpt2\",\n",
    "            \"gpt2-large\",\n",
    "            \"gpt2-xl\"\n",
    "            ]\n",
    "large_model_list = [\"meta-llama/Meta-Llama-3-8B\",\n",
    "            \"mistralai/Mistral-7B-v0.1\",\n",
    "            \"EleutherAI/pythia-6.9b-deduped\",\n",
    "            \"facebook/opt-6.7b\"]\n",
    "model_titles = {\n",
    "    \"meta-llama/Meta-Llama-3-8B\": \"Llama-3 8B\",\n",
    "    \"mistralai/Mistral-7B-v0.1\": \"Mistral 7B\",\n",
    "    \"EleutherAI/pythia-6.9b-deduped\": \"Pythia 6.9B\",\n",
    "    \"EleutherAI/pythia-160m-deduped\": \"Pythia 160M\",\n",
    "    \"EleutherAI/pythia-410m-deduped\": \"Pythia 410M\",\n",
    "    \"EleutherAI/pythia-1.4b-deduped\": \"Pythia 1.4B\",\n",
    "    \"EleutherAI/pythia-2.8b-deduped\": \"Pythia 2.8B\",\n",
    "    \"facebook/opt-6.7b\": \"OPT 6.7B\",\n",
    "    \"gpt2\": \"GPT-2 (124M)\",\n",
    "    \"gpt2-large\": \"GPT-2 (774M)\",\n",
    "    \"gpt2-xl\": \"GPT-2 (1.5B)\"\n",
    "}"
   ]
  },
  {
   "cell_type": "code",
   "execution_count": 2,
   "id": "4821a539-f08f-43a9-9617-2809d1521a23",
   "metadata": {},
   "outputs": [
    {
     "ename": "NameError",
     "evalue": "name 'model_titles' is not defined",
     "output_type": "error",
     "traceback": [
      "\u001b[0;31m---------------------------------------------------------------------------\u001b[0m",
      "\u001b[0;31mNameError\u001b[0m                                 Traceback (most recent call last)",
      "Cell \u001b[0;32mIn[2], line 4\u001b[0m\n\u001b[1;32m      2\u001b[0m losses \u001b[38;5;241m=\u001b[39m {};\n\u001b[1;32m      3\u001b[0m rs_idx \u001b[38;5;241m=\u001b[39m \u001b[38;5;241m1\u001b[39m\n\u001b[0;32m----> 4\u001b[0m \u001b[38;5;28;01mfor\u001b[39;00m model \u001b[38;5;129;01min\u001b[39;00m \u001b[43mmodel_titles\u001b[49m:\n\u001b[1;32m      5\u001b[0m     ids[model] \u001b[38;5;241m=\u001b[39m np\u001b[38;5;241m.\u001b[39mload(\u001b[38;5;124mf\u001b[39m\u001b[38;5;124m'\u001b[39m\u001b[38;5;124mPile-Structured/\u001b[39m\u001b[38;5;132;01m{\u001b[39;00mmodel\u001b[38;5;132;01m}\u001b[39;00m\u001b[38;5;124m/gride.npy\u001b[39m\u001b[38;5;124m'\u001b[39m)[:, :, \u001b[38;5;241m0\u001b[39m, rs_idx]\n\u001b[1;32m      6\u001b[0m     losses[model] \u001b[38;5;241m=\u001b[39m np\u001b[38;5;241m.\u001b[39mload(\u001b[38;5;124mf\u001b[39m\u001b[38;5;124m'\u001b[39m\u001b[38;5;124mPile-Structured/\u001b[39m\u001b[38;5;132;01m{\u001b[39;00mmodel\u001b[38;5;132;01m}\u001b[39;00m\u001b[38;5;124m/losses.npy\u001b[39m\u001b[38;5;124m'\u001b[39m)\n",
      "\u001b[0;31mNameError\u001b[0m: name 'model_titles' is not defined"
     ]
    }
   ],
   "source": [
    "ids = {}; ids_shuffled = {}\n",
    "losses = {};\n",
    "rs_idx = 1\n",
    "for model in id_model_list:\n",
    "    ids[model] = np.load(f'Pile-Structured/{model}/gride.npy')[:, :, 0, rs_idx]\n",
    "    losses[model] = np.load(f'Pile-Structured/{model}/losses.npy')\n"
   ]
  },
  {
   "cell_type": "markdown",
   "id": "5465093a-f632-42bb-93c3-efbe19159ef2",
   "metadata": {},
   "source": [
    "## Figure 1"
   ]
  },
  {
   "cell_type": "markdown",
   "id": "c9731813-22bc-40e7-8b07-3f899aabcfdc",
   "metadata": {},
   "source": [
    "## Figure 2"
   ]
  },
  {
   "cell_type": "code",
   "execution_count": null,
   "id": "e7154a0c-a2b7-4854-8c18-71e555c2f868",
   "metadata": {},
   "outputs": [],
   "source": []
  },
  {
   "cell_type": "markdown",
   "id": "4c9ebd45-74cf-442d-88c2-c27f623739db",
   "metadata": {},
   "source": [
    "## Figure 3"
   ]
  },
  {
   "cell_type": "markdown",
   "id": "1230e762-39f5-4297-bd76-98097b9052b9",
   "metadata": {},
   "source": [
    "## Figure 4"
   ]
  },
  {
   "cell_type": "code",
   "execution_count": null,
   "id": "451366b7-5f12-4bea-979f-c08ff9f94f66",
   "metadata": {},
   "outputs": [],
   "source": []
  }
 ],
 "metadata": {
  "kernelspec": {
   "display_name": "llmenv",
   "language": "python",
   "name": "llmenv"
  },
  "language_info": {
   "codemirror_mode": {
    "name": "ipython",
    "version": 3
   },
   "file_extension": ".py",
   "mimetype": "text/x-python",
   "name": "python",
   "nbconvert_exporter": "python",
   "pygments_lexer": "ipython3",
   "version": "3.11.9"
  }
 },
 "nbformat": 4,
 "nbformat_minor": 5
}
